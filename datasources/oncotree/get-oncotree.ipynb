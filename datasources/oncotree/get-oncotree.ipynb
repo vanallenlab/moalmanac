{
 "cells": [
  {
   "cell_type": "code",
   "execution_count": 1,
   "id": "15aef7c6",
   "metadata": {},
   "outputs": [],
   "source": [
    "import requests\n",
    "import pandas"
   ]
  },
  {
   "cell_type": "code",
   "execution_count": 8,
   "id": "9006f380",
   "metadata": {},
   "outputs": [],
   "source": [
    "request = 'http://oncotree.mskcc.org/api/tumorTypes/tree?version=oncotree_latest_stable'\n",
    "r = requests.get(request)"
   ]
  },
  {
   "cell_type": "code",
   "execution_count": 19,
   "id": "875a3e89",
   "metadata": {},
   "outputs": [
    {
     "data": {
      "text/plain": [
       "dict_keys(['OVARY', 'LYMPH', 'SOFT_TISSUE', 'THYROID', 'PLEURA', 'PANCREAS', 'BILIARY_TRACT', 'BREAST', 'HEAD_NECK', 'EYE', 'AMPULLA_OF_VATER', 'THYMUS', 'CERVIX', 'PNS', 'BOWEL', 'BONE', 'SKIN', 'BLADDER', 'BRAIN', 'ADRENAL_GLAND', 'PROSTATE', 'LUNG', 'PENIS', 'UTERUS', 'OTHER', 'TESTIS', 'LIVER', 'PERITONEUM', 'MYELOID', 'VULVA', 'KIDNEY', 'STOMACH'])"
      ]
     },
     "execution_count": 19,
     "metadata": {},
     "output_type": "execute_result"
    }
   ],
   "source": [
    "r.json()['TISSUE']['children'].keys()"
   ]
  },
  {
   "cell_type": "code",
   "execution_count": null,
   "id": "0c4d27c3",
   "metadata": {},
   "outputs": [],
   "source": []
  }
 ],
 "metadata": {
  "kernelspec": {
   "display_name": "moalmanac",
   "language": "python",
   "name": "moalmanac"
  },
  "language_info": {
   "codemirror_mode": {
    "name": "ipython",
    "version": 3
   },
   "file_extension": ".py",
   "mimetype": "text/x-python",
   "name": "python",
   "nbconvert_exporter": "python",
   "pygments_lexer": "ipython3",
   "version": "3.6.13"
  }
 },
 "nbformat": 4,
 "nbformat_minor": 5
}
