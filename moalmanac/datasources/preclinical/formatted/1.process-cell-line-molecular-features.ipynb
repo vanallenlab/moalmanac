{
 "cells": [
  {
   "cell_type": "markdown",
   "metadata": {},
   "source": [
    "# Format molecular features of cell lines for use by Molecular Oncology Almanac\n",
    "We format somatic variants, copy nubmer alterations, and fusions for use by the Molecular Oncology Almanac to test for preclinical efficacy and for matchmaking. For each data type, we will create a table that contains at most five columns:\n",
    "- `model_id`: The cell line sample name\n",
    "- `feature_type`: The feature type (e.g. Somatic Variant, Copy Number, Rearrangement)\n",
    "- `feature`: The gene of interest\n",
    "- `alteration_type`: Variant classification or copy number direction\n",
    "- `alteration`: Protein change or fusion partner\n",
    "\n",
    "Additionally, we will import GDSC sensitivity data to create an \"about\" table that contains the following for each cell line studied:\n",
    "- booleans for each data type \n",
    "- additional names of the cell line \n",
    "- cell line ontology\n",
    "\n",
    "We use cell lines that meet the following criteria:\n",
    "- map to a CCLE name\n",
    "- have all four data types available\n",
    "- is not a blood cancer \n",
    "- is not subject to genetic drift\n",
    "- is not contaminated by fibroblast\n",
    "- for evaluation, they must be sensitive to at least one therapy and there must be at least one other cell line that shares therapeutic sensitivity\n",
    "\n",
    "In all, we are left with 377 cell lines for evaluation and 452 for production."
   ]
  },
  {
   "cell_type": "code",
   "execution_count": 1,
   "metadata": {},
   "outputs": [],
   "source": [
    "import pandas as pd\n",
    "\n",
    "gdsc_model_info = pd.read_csv('../source/gdsc/model_list_20200204.csv')\n",
    "ccle_model_info = pd.read_csv('../source/ccle-2019/data_clinical_sample.txt', sep='\\t', comment='#')\n",
    "\n",
    "fibroblast_maps = (pd.\n",
    "                   read_excel('../source/ccle-2019/41586_2019_1186_MOESM4_ESM.xlsx', \n",
    "                              sheet_name='Cell line name changes')\n",
    "                   .iloc[:45, :]\n",
    "                   .set_index('old_CCLE_ID')\n",
    "                   .loc[:, 'new_CCLE_ID']\n",
    "                   .to_dict()\n",
    "                  )\n",
    "\n",
    "summary = pd.read_csv('cell-line-names.formatted.txt', sep='\\t')\n",
    "summary['fibroblast'] = (summary['ccle_name'].isin(fibroblast_maps.keys()) | \n",
    "                         summary['alt_ccle'].isin(fibroblast_maps.keys()) | \n",
    "                         summary['ccle_name'].isin(fibroblast_maps.values()) |\n",
    "                         summary['alt_ccle'].isin(fibroblast_maps.values())\n",
    "                        ).astype(int)\n",
    "\n",
    "drift = pd.read_excel('../source/ccle-2019/41586_2019_1186_MOESM6_ESM.xlsx', sheet_name='CCLE_GDSC_comparison')\n",
    "drift_samples = drift[drift['r_somatic_CCLE_HC_vs_GDSC_WES'].fillna(0).lt(0.75)]['CCLE_ID']\n",
    "summary['drift'] = (summary['ccle_name'].isin(drift_samples) | summary['alt_ccle'].isin(drift_samples)).astype(int)\n",
    "\n",
    "ccle_alt_map = (summary\n",
    " .loc[summary['alt_ccle'].dropna().index, ['ccle_name', 'alt_ccle']]\n",
    " .set_index('alt_ccle')\n",
    " .loc[:, 'ccle_name']\n",
    " .to_dict()\n",
    ")"
   ]
  },
  {
   "cell_type": "code",
   "execution_count": 2,
   "metadata": {},
   "outputs": [
    {
     "data": {
      "text/plain": [
       "0    1853\n",
       "1      45\n",
       "Name: fibroblast, dtype: int64"
      ]
     },
     "execution_count": 2,
     "metadata": {},
     "output_type": "execute_result"
    }
   ],
   "source": [
    "summary['fibroblast'].value_counts()"
   ]
  },
  {
   "cell_type": "code",
   "execution_count": 3,
   "metadata": {},
   "outputs": [
    {
     "data": {
      "text/plain": [
       "0    1833\n",
       "1      65\n",
       "Name: drift, dtype: int64"
      ]
     },
     "execution_count": 3,
     "metadata": {},
     "output_type": "execute_result"
    }
   ],
   "source": [
    "summary['drift'].value_counts()"
   ]
  },
  {
   "cell_type": "markdown",
   "metadata": {},
   "source": [
    "## Somatic Variants"
   ]
  },
  {
   "cell_type": "code",
   "execution_count": 4,
   "metadata": {},
   "outputs": [
    {
     "data": {
      "text/html": [
       "<div>\n",
       "<style scoped>\n",
       "    .dataframe tbody tr th:only-of-type {\n",
       "        vertical-align: middle;\n",
       "    }\n",
       "\n",
       "    .dataframe tbody tr th {\n",
       "        vertical-align: top;\n",
       "    }\n",
       "\n",
       "    .dataframe thead th {\n",
       "        text-align: right;\n",
       "    }\n",
       "</style>\n",
       "<table border=\"1\" class=\"dataframe\">\n",
       "  <thead>\n",
       "    <tr style=\"text-align: right;\">\n",
       "      <th></th>\n",
       "      <th>feature</th>\n",
       "      <th>alteration_type</th>\n",
       "      <th>alteration</th>\n",
       "      <th>model_id</th>\n",
       "    </tr>\n",
       "  </thead>\n",
       "  <tbody>\n",
       "    <tr>\n",
       "      <th>0</th>\n",
       "      <td>ABCA10</td>\n",
       "      <td>Missense</td>\n",
       "      <td>p.S609L</td>\n",
       "      <td>127399_SOFT_TISSUE</td>\n",
       "    </tr>\n",
       "    <tr>\n",
       "      <th>1</th>\n",
       "      <td>ABCA2</td>\n",
       "      <td>Splice Site</td>\n",
       "      <td>NaN</td>\n",
       "      <td>127399_SOFT_TISSUE</td>\n",
       "    </tr>\n",
       "    <tr>\n",
       "      <th>2</th>\n",
       "      <td>ABCA5</td>\n",
       "      <td>Missense</td>\n",
       "      <td>p.E245K</td>\n",
       "      <td>127399_SOFT_TISSUE</td>\n",
       "    </tr>\n",
       "    <tr>\n",
       "      <th>3</th>\n",
       "      <td>ABCA9</td>\n",
       "      <td>Missense</td>\n",
       "      <td>p.M259I</td>\n",
       "      <td>127399_SOFT_TISSUE</td>\n",
       "    </tr>\n",
       "    <tr>\n",
       "      <th>4</th>\n",
       "      <td>ABCC10</td>\n",
       "      <td>Frameshift</td>\n",
       "      <td>p.G1345fs</td>\n",
       "      <td>127399_SOFT_TISSUE</td>\n",
       "    </tr>\n",
       "  </tbody>\n",
       "</table>\n",
       "</div>"
      ],
      "text/plain": [
       "  feature alteration_type alteration            model_id\n",
       "0  ABCA10        Missense    p.S609L  127399_SOFT_TISSUE\n",
       "1   ABCA2     Splice Site        NaN  127399_SOFT_TISSUE\n",
       "2   ABCA5        Missense    p.E245K  127399_SOFT_TISSUE\n",
       "3   ABCA9        Missense    p.M259I  127399_SOFT_TISSUE\n",
       "4  ABCC10      Frameshift  p.G1345fs  127399_SOFT_TISSUE"
      ]
     },
     "execution_count": 4,
     "metadata": {},
     "output_type": "execute_result"
    }
   ],
   "source": [
    "handle = '../source/ccle-2019/data_mutations_extended.txt'\n",
    "df = pd.read_csv(handle, sep='\\t', comment='#', low_memory=False)\n",
    "df['Tumor_Sample_Barcode'].replace(fibroblast_maps, inplace=True)\n",
    "df['Tumor_Sample_Barcode'].replace(ccle_alt_map, inplace=True)\n",
    "somatic_samples = df['Tumor_Sample_Barcode'].drop_duplicates().sort_values().tolist()\n",
    "\n",
    "df = df[~df['Chromosome'].eq('M')]\n",
    "\n",
    "classification_map = {\n",
    "    'Missense_Mutation': 'Missense',\n",
    "    'Frame_Shift_Del': 'Frameshift',\n",
    "    'Frame_Shift_Ins': 'Frameshift',\n",
    "    'Nonsense_Mutation': 'Nonsense',\n",
    "    'Splice_Site': 'Splice Site',\n",
    "    'In_Frame_Ins': 'Insertion',\n",
    "    'In_Frame_Del': 'Deletion',\n",
    "    'Nonstop_Mutation': 'Nonstop'\n",
    "}\n",
    "\n",
    "idx_coding = df['Variant_Classification'].isin(list(classification_map.keys()))\n",
    "silent = df[df['Variant_Classification'].eq('Silent')]\n",
    "\n",
    "df = df[idx_coding]\n",
    "df['Variant_Classification'] = df['Variant_Classification'].replace(classification_map)\n",
    "\n",
    "somatic = df.loc[:, ['Tumor_Sample_Barcode', 'Hugo_Symbol', 'Variant_Classification', 'Protein_Change']]\n",
    "somatic = somatic.rename(columns = {'Hugo_Symbol': 'feature', \n",
    "                                   'Variant_Classification': 'alteration_type',\n",
    "                                   'Protein_Change': 'alteration',\n",
    "                                   'Tumor_Sample_Barcode': 'model_id'})\n",
    "silent.rename(columns={'Tumor_Sample_Barcode': 'model_id'}, inplace=True)\n",
    "\n",
    "somatic = (somatic\n",
    "           .loc[:, ['feature', 'alteration_type', 'alteration', 'model_id']]\n",
    "           .sort_values(['model_id', 'feature', 'alteration_type', 'alteration'])\n",
    "           .drop_duplicates()\n",
    "           .reset_index(drop=True)\n",
    "          )\n",
    "\n",
    "somatic.to_csv('cell-lines.somatic-variants.txt', sep='\\t', index=False)\n",
    "somatic.head()"
   ]
  },
  {
   "cell_type": "code",
   "execution_count": 5,
   "metadata": {},
   "outputs": [
    {
     "data": {
      "text/plain": [
       "1    1570\n",
       "0     328\n",
       "Name: somatic_variants, dtype: int64"
      ]
     },
     "execution_count": 5,
     "metadata": {},
     "output_type": "execute_result"
    }
   ],
   "source": [
    "summary['somatic_variants'] = (summary['ccle_name'].isin(somatic_samples) | \n",
    "                               summary['alt_ccle'].isin(somatic_samples)\n",
    "                              ).astype(int)\n",
    "summary['somatic_variants'].value_counts()"
   ]
  },
  {
   "cell_type": "code",
   "execution_count": 6,
   "metadata": {},
   "outputs": [
    {
     "data": {
      "text/plain": [
       "count     1570.000000\n",
       "mean       509.947134\n",
       "std        996.413210\n",
       "min         14.000000\n",
       "25%        184.000000\n",
       "50%        265.000000\n",
       "75%        416.000000\n",
       "max      18962.000000\n",
       "Name: model_id, dtype: float64"
      ]
     },
     "execution_count": 6,
     "metadata": {},
     "output_type": "execute_result"
    }
   ],
   "source": [
    "somatic['model_id'].value_counts().describe()"
   ]
  },
  {
   "cell_type": "code",
   "execution_count": 7,
   "metadata": {},
   "outputs": [
    {
     "name": "stdout",
     "output_type": "stream",
     "text": [
      "0.08726114649681528\n",
      "0.1\n",
      "0.13184713375796178\n"
     ]
    }
   ],
   "source": [
    "for gene in ['EGFR', 'CDKN2A', 'BRAF']:\n",
    "    print(somatic[somatic['feature'].eq(gene)].shape[0] / len(somatic_samples))"
   ]
  },
  {
   "cell_type": "markdown",
   "metadata": {},
   "source": [
    "## Copy Number"
   ]
  },
  {
   "cell_type": "code",
   "execution_count": 8,
   "metadata": {},
   "outputs": [],
   "source": [
    "handle = '../source/ccle-2019/data_CNA.txt'\n",
    "df = pd.read_csv(handle, sep='\\t', low_memory=False)\n",
    "df = df.set_index('Hugo_Symbol')\n",
    "df.rename(columns=fibroblast_maps, inplace=True)\n",
    "df.rename(columns=ccle_alt_map, inplace=True)\n",
    "\n",
    "copy_number_samples = df.columns.tolist()\n",
    "\n",
    "df = df.stack().to_frame().reset_index()\n",
    "df[0] = df[0].astype(float)\n",
    "df = df[df[0].abs().ge(2)]\n",
    "df['mapped'] = df[0].replace({2.0: 'Amplification', \n",
    "                              -2.0: 'Deletion', \n",
    "                              1.0: 'Amplification',\n",
    "                              -1.0: 'Deletion'})\n",
    "df = df.rename(columns = \n",
    "          {'Hugo_Symbol': 'feature',\n",
    "           'level_1': 'model_id',\n",
    "           'mapped': 'alteration_type'\n",
    "          })\n",
    "df['alteration'] = ''\n",
    "\n",
    "copy_number = (df\n",
    "               .loc[:, ['feature', 'alteration_type', 'alteration', 'model_id']]\n",
    "               .sort_values(['model_id', 'feature', 'alteration_type', 'alteration'])\n",
    "               .drop_duplicates()\n",
    "               .reset_index(drop=True)\n",
    "     )\n",
    "\n",
    "copy_number.to_csv('cell-lines.copy-numbers.txt', sep='\\t', index=False)"
   ]
  },
  {
   "cell_type": "code",
   "execution_count": 9,
   "metadata": {},
   "outputs": [
    {
     "data": {
      "text/plain": [
       "1    1030\n",
       "0     868\n",
       "Name: copy_number_alterations, dtype: int64"
      ]
     },
     "execution_count": 9,
     "metadata": {},
     "output_type": "execute_result"
    }
   ],
   "source": [
    "summary['copy_number_alterations'] = (summary['ccle_name'].isin(copy_number_samples) | \n",
    "                                      summary['alt_ccle'].isin(copy_number_samples)\n",
    "                                     ).astype(int)\n",
    "summary['copy_number_alterations'].value_counts()"
   ]
  },
  {
   "cell_type": "code",
   "execution_count": 10,
   "metadata": {},
   "outputs": [
    {
     "name": "stdout",
     "output_type": "stream",
     "text": [
      "0.1378640776699029\n",
      "0.43398058252427185\n",
      "0.0970873786407767\n"
     ]
    }
   ],
   "source": [
    "for gene in ['EGFR', 'CDKN2A', 'BRAF']:\n",
    "    print(copy_number[copy_number['feature'].eq(gene)].shape[0] / len(copy_number_samples))"
   ]
  },
  {
   "cell_type": "code",
   "execution_count": 11,
   "metadata": {},
   "outputs": [
    {
     "data": {
      "text/plain": [
       "count    1030.000000\n",
       "mean     1592.000000\n",
       "std      1211.231688\n",
       "min        99.000000\n",
       "25%       664.000000\n",
       "50%      1309.500000\n",
       "75%      2301.000000\n",
       "max      7463.000000\n",
       "Name: model_id, dtype: float64"
      ]
     },
     "execution_count": 11,
     "metadata": {},
     "output_type": "execute_result"
    }
   ],
   "source": [
    "copy_number['model_id'].value_counts().describe()"
   ]
  },
  {
   "cell_type": "code",
   "execution_count": 12,
   "metadata": {},
   "outputs": [
    {
     "data": {
      "text/plain": [
       "Deletion         948011\n",
       "Amplification    691749\n",
       "Name: alteration_type, dtype: int64"
      ]
     },
     "execution_count": 12,
     "metadata": {},
     "output_type": "execute_result"
    }
   ],
   "source": [
    "copy_number['alteration_type'].value_counts()"
   ]
  },
  {
   "cell_type": "markdown",
   "metadata": {},
   "source": [
    "## Fusion"
   ]
  },
  {
   "cell_type": "code",
   "execution_count": 13,
   "metadata": {},
   "outputs": [
    {
     "data": {
      "text/html": [
       "<div>\n",
       "<style scoped>\n",
       "    .dataframe tbody tr th:only-of-type {\n",
       "        vertical-align: middle;\n",
       "    }\n",
       "\n",
       "    .dataframe tbody tr th {\n",
       "        vertical-align: top;\n",
       "    }\n",
       "\n",
       "    .dataframe thead th {\n",
       "        text-align: right;\n",
       "    }\n",
       "</style>\n",
       "<table border=\"1\" class=\"dataframe\">\n",
       "  <thead>\n",
       "    <tr style=\"text-align: right;\">\n",
       "      <th></th>\n",
       "      <th>feature</th>\n",
       "      <th>partner</th>\n",
       "      <th>model_id</th>\n",
       "    </tr>\n",
       "  </thead>\n",
       "  <tbody>\n",
       "    <tr>\n",
       "      <th>0</th>\n",
       "      <td>EIF5A</td>\n",
       "      <td>HMGN2</td>\n",
       "      <td>SIDM00003</td>\n",
       "    </tr>\n",
       "    <tr>\n",
       "      <th>1</th>\n",
       "      <td>MYMK</td>\n",
       "      <td>RRBP1</td>\n",
       "      <td>SIDM00003</td>\n",
       "    </tr>\n",
       "    <tr>\n",
       "      <th>2</th>\n",
       "      <td>PRAME</td>\n",
       "      <td>MAPK1</td>\n",
       "      <td>SIDM00003</td>\n",
       "    </tr>\n",
       "    <tr>\n",
       "      <th>3</th>\n",
       "      <td>SHISA8</td>\n",
       "      <td>LARGE1</td>\n",
       "      <td>SIDM00003</td>\n",
       "    </tr>\n",
       "    <tr>\n",
       "      <th>4</th>\n",
       "      <td>SORD</td>\n",
       "      <td>FAM91A1</td>\n",
       "      <td>SIDM00003</td>\n",
       "    </tr>\n",
       "  </tbody>\n",
       "</table>\n",
       "</div>"
      ],
      "text/plain": [
       "  feature  partner   model_id\n",
       "0   EIF5A    HMGN2  SIDM00003\n",
       "1    MYMK    RRBP1  SIDM00003\n",
       "2   PRAME    MAPK1  SIDM00003\n",
       "3  SHISA8   LARGE1  SIDM00003\n",
       "4    SORD  FAM91A1  SIDM00003"
      ]
     },
     "execution_count": 13,
     "metadata": {},
     "output_type": "execute_result"
    }
   ],
   "source": [
    "handle = '../source/gdsc/fusions_20191101.csv'\n",
    "df = pd.read_csv(handle)\n",
    "\n",
    "fusion_samples = df['model_id'].drop_duplicates().sort_values().tolist()\n",
    "\n",
    "df = (df\n",
    "      .rename(columns={'gene_symbol_3prime': 'feature', 'gene_symbol_5prime': 'partner'})\n",
    "      .loc[:, ['feature', 'partner', 'model_id']]\n",
    "      .drop_duplicates()\n",
    ")\n",
    "\n",
    "fusions = (df\n",
    "          .sort_values(['model_id', 'feature', 'partner'])\n",
    "          .drop_duplicates(['model_id', 'feature', 'partner'])\n",
    "          .reset_index(drop=True)\n",
    "         )\n",
    "\n",
    "fusions.to_csv('cell-lines.fusions.txt', sep='\\t', index=False)\n",
    "fusions.head()"
   ]
  },
  {
   "cell_type": "code",
   "execution_count": 14,
   "metadata": {},
   "outputs": [
    {
     "data": {
      "text/plain": [
       "0    974\n",
       "1    924\n",
       "Name: fusions, dtype: int64"
      ]
     },
     "execution_count": 14,
     "metadata": {},
     "output_type": "execute_result"
    }
   ],
   "source": [
    "summary['fusions'] = (summary['sanger'].isin(fusion_samples)).astype(int)\n",
    "summary['fusions'].value_counts()"
   ]
  },
  {
   "cell_type": "code",
   "execution_count": 15,
   "metadata": {},
   "outputs": [
    {
     "data": {
      "text/plain": [
       "924"
      ]
     },
     "execution_count": 15,
     "metadata": {},
     "output_type": "execute_result"
    }
   ],
   "source": [
    "len(fusion_samples)"
   ]
  },
  {
   "cell_type": "markdown",
   "metadata": {},
   "source": [
    "## Therapeutic sensitivity"
   ]
  },
  {
   "cell_type": "code",
   "execution_count": 16,
   "metadata": {},
   "outputs": [
    {
     "data": {
      "text/html": [
       "<div>\n",
       "<style scoped>\n",
       "    .dataframe tbody tr th:only-of-type {\n",
       "        vertical-align: middle;\n",
       "    }\n",
       "\n",
       "    .dataframe tbody tr th {\n",
       "        vertical-align: top;\n",
       "    }\n",
       "\n",
       "    .dataframe thead th {\n",
       "        text-align: right;\n",
       "    }\n",
       "</style>\n",
       "<table border=\"1\" class=\"dataframe\">\n",
       "  <thead>\n",
       "    <tr style=\"text-align: right;\">\n",
       "      <th></th>\n",
       "      <th>DATASET</th>\n",
       "      <th>model_id</th>\n",
       "      <th>therapy_name</th>\n",
       "      <th>ln_ic50</th>\n",
       "      <th>AUC</th>\n",
       "      <th>z_score</th>\n",
       "    </tr>\n",
       "  </thead>\n",
       "  <tbody>\n",
       "    <tr>\n",
       "      <th>36547</th>\n",
       "      <td>GDSC1</td>\n",
       "      <td>SIDM01057</td>\n",
       "      <td>GW-2580</td>\n",
       "      <td>-1.850518</td>\n",
       "      <td>0.211278</td>\n",
       "      <td>-10.269077</td>\n",
       "    </tr>\n",
       "    <tr>\n",
       "      <th>196675</th>\n",
       "      <td>GDSC1</td>\n",
       "      <td>SIDM00486</td>\n",
       "      <td>AZD6094</td>\n",
       "      <td>-6.142786</td>\n",
       "      <td>0.053566</td>\n",
       "      <td>-9.829463</td>\n",
       "    </tr>\n",
       "    <tr>\n",
       "      <th>162790</th>\n",
       "      <td>GDSC1</td>\n",
       "      <td>SIDM00277</td>\n",
       "      <td>Motesanib</td>\n",
       "      <td>-6.043722</td>\n",
       "      <td>0.039769</td>\n",
       "      <td>-9.375108</td>\n",
       "    </tr>\n",
       "    <tr>\n",
       "      <th>197469</th>\n",
       "      <td>GDSC1</td>\n",
       "      <td>SIDM00538</td>\n",
       "      <td>AZD6094</td>\n",
       "      <td>-5.539672</td>\n",
       "      <td>0.098723</td>\n",
       "      <td>-9.190171</td>\n",
       "    </tr>\n",
       "    <tr>\n",
       "      <th>78848</th>\n",
       "      <td>GDSC1</td>\n",
       "      <td>SIDM00437</td>\n",
       "      <td>Linifanib</td>\n",
       "      <td>-6.533443</td>\n",
       "      <td>0.061135</td>\n",
       "      <td>-9.158231</td>\n",
       "    </tr>\n",
       "  </tbody>\n",
       "</table>\n",
       "</div>"
      ],
      "text/plain": [
       "       DATASET   model_id therapy_name   ln_ic50       AUC    z_score\n",
       "36547    GDSC1  SIDM01057      GW-2580 -1.850518  0.211278 -10.269077\n",
       "196675   GDSC1  SIDM00486      AZD6094 -6.142786  0.053566  -9.829463\n",
       "162790   GDSC1  SIDM00277    Motesanib -6.043722  0.039769  -9.375108\n",
       "197469   GDSC1  SIDM00538      AZD6094 -5.539672  0.098723  -9.190171\n",
       "78848    GDSC1  SIDM00437    Linifanib -6.533443  0.061135  -9.158231"
      ]
     },
     "execution_count": 16,
     "metadata": {},
     "output_type": "execute_result"
    }
   ],
   "source": [
    "gdsc1 = pd.read_excel('../source/gdsc/GDSC1_fitted_dose_response_25Feb20.xlsx')\n",
    "gdsc2 = pd.read_excel('../source/gdsc/GDSC2_fitted_dose_response_25Feb20.xlsx')\n",
    "gdsc = pd.concat([\n",
    "    gdsc1[~gdsc1['DRUG_NAME'].isin(gdsc2['DRUG_NAME'])],\n",
    "    gdsc2\n",
    "], ignore_index=True)\n",
    "\n",
    "gdsc_samples = gdsc['SANGER_MODEL_ID'].drop_duplicates().sort_values()\n",
    "\n",
    "gdsc = (gdsc\n",
    "        .loc[:, ['DATASET', 'SANGER_MODEL_ID', 'DRUG_NAME', 'LN_IC50', 'AUC', 'Z_SCORE']]\n",
    "        .rename(columns={'SANGER_MODEL_ID': 'model_id', 'DRUG_NAME': 'therapy_name', \n",
    "                         'LN_IC50': 'ln_ic50', 'Z_SCORE': 'z_score'})\n",
    "       )\n",
    "\n",
    "gdsc = gdsc.sort_values('z_score', ascending=True).drop_duplicates(['model_id', 'therapy_name'], keep='first')\n",
    "\n",
    "gdsc.to_csv('sanger.gdsc.txt', sep='\\t', index=False)\n",
    "gdsc.head()"
   ]
  },
  {
   "cell_type": "code",
   "execution_count": 17,
   "metadata": {},
   "outputs": [
    {
     "data": {
      "text/plain": [
       "1    988\n",
       "0    910\n",
       "Name: gdsc, dtype: int64"
      ]
     },
     "execution_count": 17,
     "metadata": {},
     "output_type": "execute_result"
    }
   ],
   "source": [
    "summary['gdsc'] = (summary['sanger'].isin(gdsc_samples)).astype(int)\n",
    "summary['gdsc'].value_counts()"
   ]
  },
  {
   "cell_type": "code",
   "execution_count": 18,
   "metadata": {},
   "outputs": [
    {
     "data": {
      "text/plain": [
       "988"
      ]
     },
     "execution_count": 18,
     "metadata": {},
     "output_type": "execute_result"
    }
   ],
   "source": [
    "len(gdsc_samples)"
   ]
  },
  {
   "cell_type": "markdown",
   "metadata": {},
   "source": [
    "## Summary"
   ]
  },
  {
   "cell_type": "code",
   "execution_count": 20,
   "metadata": {},
   "outputs": [
    {
     "name": "stdout",
     "output_type": "stream",
     "text": [
      "use_evaluate\n",
      "False    1519\n",
      "True      379\n",
      "Name: use_evaluate, dtype: int64\n",
      "\n",
      "use\n",
      "False    1446\n",
      "True      452\n",
      "Name: use, dtype: int64\n",
      "\n"
     ]
    }
   ],
   "source": [
    "output = summary.copy(deep=True).reset_index(drop=True)\n",
    "output['n_dtypes'] = output.loc[:, ['somatic_variants', 'copy_number_alterations', 'fusions', 'gdsc']].sum(axis=1)\n",
    "output = output.merge(ccle_model_info\n",
    "                      .rename(columns={'SAMPLE_ID': 'ccle_name'})\n",
    "                      .loc[:, ['ccle_name', 'PRIMARY_SITE', 'TUMOR_TYPE', 'TYPE_REFINED']], \n",
    "                      on='ccle_name', how='left')\n",
    "\n",
    "output = output.merge(gdsc_model_info\n",
    "                      .rename(columns={'model_id': 'sanger', \n",
    "                                       'cancer_type': 'sanger_cancer_type', \n",
    "                                       'cancer_type_detail': 'sanger_cancer_type_detail'})\n",
    "                      .loc[:, ['sanger', 'sanger_cancer_type', 'sanger_cancer_type_detail']],\n",
    "                      on='sanger', how='left')\n",
    "\n",
    "series = pd.Series(index=output['sanger'].dropna().tolist(), dtype=int)\n",
    "for label, group in gdsc[gdsc['z_score'].le(-2)].groupby('model_id'):\n",
    "    series.loc[label] = group.shape[0]\n",
    "series.fillna(0, inplace=True)\n",
    "\n",
    "output = (output\n",
    "           .merge(\n",
    "               series\n",
    "               .reset_index()\n",
    "               .rename(columns={'index': 'sanger', 0: 'n_therapies_sensitive'}),\n",
    "               on='sanger', how='left'\n",
    "    )\n",
    ")    \n",
    "output['n_therapies_sensitive'].fillna(pd.NA, inplace=True)\n",
    "\n",
    "output = (output\n",
    "           .merge(\n",
    "               silent['model_id']\n",
    "               .value_counts()\n",
    "               .reset_index()\n",
    "               .rename(columns={'index': 'ccle_name', 'model_id': 'silent_var_counts'}),\n",
    "               on='ccle_name', how='left'\n",
    "           )\n",
    ")\n",
    "output['silent_var_counts'].fillna(pd.NA, inplace=True)\n",
    "\n",
    "idx_blood = (output['PRIMARY_SITE'].str.contains('Haematopoietic') | \n",
    "             output['ccle_name'].str.contains('HAEMATOPOIETIC') |\n",
    "             output['sanger_cancer_type'].str.contains('Leukemia') | \n",
    "             output['sanger_cancer_type'].str.contains('Other Blood Carcinomas') | \n",
    "             output['sanger_cancer_type'].str.contains('Myeloma')\n",
    "            ).fillna(False)\n",
    "idx_drift = output['drift'].fillna(0).eq(1)\n",
    "idx_fibroblast = output['fibroblast'].fillna(0).eq(1)\n",
    "idx_reject = (idx_blood | idx_fibroblast | idx_drift)\n",
    "idx_sensitive_one_therapy = output['n_therapies_sensitive'].fillna(0).ge(1)\n",
    "idx_4_dtypes = output['n_dtypes'].eq(4)\n",
    "\n",
    "output['use_evaluate'] = idx_sensitive_one_therapy & idx_4_dtypes & ~idx_reject\n",
    "output['use'] = idx_4_dtypes & ~idx_reject\n",
    "\n",
    "for column in ['use_evaluate', 'use']:\n",
    "    print(column)\n",
    "    print(output[column].value_counts())\n",
    "    print('')\n",
    "    \n",
    "output.to_csv('cell-lines.summary.txt', sep='\\t', index=False)"
   ]
  },
  {
   "cell_type": "code",
   "execution_count": 21,
   "metadata": {},
   "outputs": [
    {
     "data": {
      "text/plain": [
       "False    452\n",
       "Name: ccle_name, dtype: int64"
      ]
     },
     "execution_count": 21,
     "metadata": {},
     "output_type": "execute_result"
    }
   ],
   "source": [
    "output[output['use'].eq(1)]['ccle_name'].isnull().value_counts()"
   ]
  },
  {
   "cell_type": "code",
   "execution_count": 22,
   "metadata": {},
   "outputs": [
    {
     "data": {
      "text/html": [
       "<div>\n",
       "<style scoped>\n",
       "    .dataframe tbody tr th:only-of-type {\n",
       "        vertical-align: middle;\n",
       "    }\n",
       "\n",
       "    .dataframe tbody tr th {\n",
       "        vertical-align: top;\n",
       "    }\n",
       "\n",
       "    .dataframe thead th {\n",
       "        text-align: right;\n",
       "    }\n",
       "</style>\n",
       "<table border=\"1\" class=\"dataframe\">\n",
       "  <thead>\n",
       "    <tr style=\"text-align: right;\">\n",
       "      <th></th>\n",
       "      <th>broad</th>\n",
       "      <th>ccle_name</th>\n",
       "      <th>sanger</th>\n",
       "      <th>alt_ccle</th>\n",
       "      <th>alt_broad</th>\n",
       "      <th>fibroblast</th>\n",
       "      <th>drift</th>\n",
       "      <th>somatic_variants</th>\n",
       "      <th>copy_number_alterations</th>\n",
       "      <th>fusions</th>\n",
       "      <th>gdsc</th>\n",
       "    </tr>\n",
       "  </thead>\n",
       "  <tbody>\n",
       "    <tr>\n",
       "      <th>0</th>\n",
       "      <td>ACH-000001</td>\n",
       "      <td>NIHOVCAR3_OVARY</td>\n",
       "      <td>SIDM00105</td>\n",
       "      <td>NaN</td>\n",
       "      <td>NaN</td>\n",
       "      <td>0</td>\n",
       "      <td>0</td>\n",
       "      <td>1</td>\n",
       "      <td>1</td>\n",
       "      <td>1</td>\n",
       "      <td>1</td>\n",
       "    </tr>\n",
       "    <tr>\n",
       "      <th>1</th>\n",
       "      <td>ACH-000002</td>\n",
       "      <td>HL60_HAEMATOPOIETIC_AND_LYMPHOID_TISSUE</td>\n",
       "      <td>SIDM00829</td>\n",
       "      <td>NaN</td>\n",
       "      <td>NaN</td>\n",
       "      <td>0</td>\n",
       "      <td>0</td>\n",
       "      <td>1</td>\n",
       "      <td>1</td>\n",
       "      <td>1</td>\n",
       "      <td>1</td>\n",
       "    </tr>\n",
       "    <tr>\n",
       "      <th>2</th>\n",
       "      <td>ACH-000003</td>\n",
       "      <td>CACO2_LARGE_INTESTINE</td>\n",
       "      <td>SIDM00891</td>\n",
       "      <td>NaN</td>\n",
       "      <td>NaN</td>\n",
       "      <td>0</td>\n",
       "      <td>0</td>\n",
       "      <td>1</td>\n",
       "      <td>0</td>\n",
       "      <td>0</td>\n",
       "      <td>0</td>\n",
       "    </tr>\n",
       "    <tr>\n",
       "      <th>3</th>\n",
       "      <td>ACH-000004</td>\n",
       "      <td>HEL_HAEMATOPOIETIC_AND_LYMPHOID_TISSUE</td>\n",
       "      <td>SIDM00594</td>\n",
       "      <td>NaN</td>\n",
       "      <td>NaN</td>\n",
       "      <td>0</td>\n",
       "      <td>0</td>\n",
       "      <td>1</td>\n",
       "      <td>1</td>\n",
       "      <td>1</td>\n",
       "      <td>1</td>\n",
       "    </tr>\n",
       "    <tr>\n",
       "      <th>4</th>\n",
       "      <td>ACH-000005</td>\n",
       "      <td>HEL9217_HAEMATOPOIETIC_AND_LYMPHOID_TISSUE</td>\n",
       "      <td>SIDM00593</td>\n",
       "      <td>NaN</td>\n",
       "      <td>NaN</td>\n",
       "      <td>0</td>\n",
       "      <td>0</td>\n",
       "      <td>1</td>\n",
       "      <td>1</td>\n",
       "      <td>0</td>\n",
       "      <td>0</td>\n",
       "    </tr>\n",
       "  </tbody>\n",
       "</table>\n",
       "</div>"
      ],
      "text/plain": [
       "        broad                                   ccle_name     sanger alt_ccle  \\\n",
       "0  ACH-000001                             NIHOVCAR3_OVARY  SIDM00105      NaN   \n",
       "1  ACH-000002     HL60_HAEMATOPOIETIC_AND_LYMPHOID_TISSUE  SIDM00829      NaN   \n",
       "2  ACH-000003                       CACO2_LARGE_INTESTINE  SIDM00891      NaN   \n",
       "3  ACH-000004      HEL_HAEMATOPOIETIC_AND_LYMPHOID_TISSUE  SIDM00594      NaN   \n",
       "4  ACH-000005  HEL9217_HAEMATOPOIETIC_AND_LYMPHOID_TISSUE  SIDM00593      NaN   \n",
       "\n",
       "  alt_broad  fibroblast  drift  somatic_variants  copy_number_alterations  \\\n",
       "0       NaN           0      0                 1                        1   \n",
       "1       NaN           0      0                 1                        1   \n",
       "2       NaN           0      0                 1                        0   \n",
       "3       NaN           0      0                 1                        1   \n",
       "4       NaN           0      0                 1                        1   \n",
       "\n",
       "   fusions  gdsc  \n",
       "0        1     1  \n",
       "1        1     1  \n",
       "2        0     0  \n",
       "3        1     1  \n",
       "4        0     0  "
      ]
     },
     "execution_count": 22,
     "metadata": {},
     "output_type": "execute_result"
    }
   ],
   "source": [
    "summary.head()"
   ]
  },
  {
   "cell_type": "code",
   "execution_count": null,
   "metadata": {},
   "outputs": [],
   "source": []
  }
 ],
 "metadata": {
  "kernelspec": {
   "display_name": "moalmanac",
   "language": "python",
   "name": "moalmanac"
  },
  "language_info": {
   "codemirror_mode": {
    "name": "ipython",
    "version": 3
   },
   "file_extension": ".py",
   "mimetype": "text/x-python",
   "name": "python",
   "nbconvert_exporter": "python",
   "pygments_lexer": "ipython3",
   "version": "3.6.13"
  }
 },
 "nbformat": 4,
 "nbformat_minor": 4
}
